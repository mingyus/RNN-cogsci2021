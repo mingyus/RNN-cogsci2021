{
 "cells": [
  {
   "cell_type": "code",
   "execution_count": null,
   "metadata": {},
   "outputs": [],
   "source": [
    "import os\n",
    "from funcs_data_preprocessing import *\n",
    "from info_model import *"
   ]
  },
  {
   "cell_type": "code",
   "execution_count": null,
   "metadata": {},
   "outputs": [],
   "source": [
    "## to preprocess human data for networks\n",
    "\n",
    "net = 'LSTM' # alternatively: 'LSTM_embed'\n",
    "\n",
    "# get data\n",
    "data = import_data()\n",
    "\n",
    "# train-test-validation split    \n",
    "data_split, games_index = train_validation_test_split(data, rand_seed=2894)\n",
    "if not os.path.isfile('data/split_info.p'):\n",
    "    pickle.dump(games_index, open('data/split_info.p', 'wb'))\n",
    "\n",
    "for split_set in ['train', 'validation', 'test']:\n",
    "    # preprocessing\n",
    "    if split_set == 'train':\n",
    "        ifAugment = True\n",
    "        str_shuffle = '_shuffleDF'\n",
    "    else:\n",
    "        ifAugment = False\n",
    "        str_shuffle = ''\n",
    "    data_dict = preprocessing(data_split[split_set], ifAugment=ifAugment, ifShuffleD=True, ifShuffleF=True)\n",
    "\n",
    "    # get network input and target output\n",
    "    get_inputs_output(data_dict, whichset=split_set+str_shuffle, input_type=input_type[net], output_type=output_type[net])"
   ]
  },
  {
   "cell_type": "code",
   "execution_count": null,
   "metadata": {},
   "outputs": [],
   "source": [
    "# Not included here, but the same preprocessing can be done for simulated data (w/ best cog model),\n",
    "# used for testing the effect of data size on fitting network"
   ]
  }
 ],
 "metadata": {
  "kernelspec": {
   "display_name": "Python 3",
   "language": "python",
   "name": "python3"
  },
  "language_info": {
   "codemirror_mode": {
    "name": "ipython",
    "version": 3
   },
   "file_extension": ".py",
   "mimetype": "text/x-python",
   "name": "python",
   "nbconvert_exporter": "python",
   "pygments_lexer": "ipython3",
   "version": "3.8.5"
  }
 },
 "nbformat": 4,
 "nbformat_minor": 4
}
