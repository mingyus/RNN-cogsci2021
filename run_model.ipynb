{
 "cells": [
  {
   "cell_type": "code",
   "execution_count": null,
   "metadata": {},
   "outputs": [],
   "source": [
    "from funcs_model import *\n",
    "from funcs_model_run import *"
   ]
  },
  {
   "cell_type": "code",
   "execution_count": null,
   "metadata": {},
   "outputs": [],
   "source": [
    "modelName = 'LSTM' # alternatively: 'LSTM_embed'"
   ]
  },
  {
   "cell_type": "code",
   "execution_count": null,
   "metadata": {},
   "outputs": [],
   "source": [
    "# set hyper-parameter values\n",
    "hyper_parameters = {\n",
    "    'n_epochs': 100,\n",
    "    'lr_init': 0.001,\n",
    "    'lr_adjust_type': 'Adam',\n",
    "    'batch_size': 10000,\n",
    "    'hidden_size': 50,\n",
    "}\n",
    "if 'embed' in modelName:\n",
    "    hyper_parameters['embed_size'] = {'subjID': 3}\n",
    "\n",
    "# get device\n",
    "device = get_device()\n",
    "\n",
    "# load data\n",
    "data = load_net_data(input_type[modelName], output_type[modelName])\n",
    "dataInfo = get_dataInfo(modelName)"
   ]
  },
  {
   "cell_type": "code",
   "execution_count": null,
   "metadata": {},
   "outputs": [],
   "source": [
    "# run training (and validation) and save the results\n",
    "training(modelName, data, dataInfo, hyper_parameters, device)"
   ]
  },
  {
   "cell_type": "code",
   "execution_count": null,
   "metadata": {},
   "outputs": [],
   "source": [
    "# after selecting the best-fit hyper-parameters, save the model (and its prediction on test set) at early stopping point\n",
    "training(modelName, data, dataInfo, hyper_parameters, device, ifSaveResults=True, epoch_stop=28)"
   ]
  }
 ],
 "metadata": {
  "kernelspec": {
   "display_name": "Python 3",
   "language": "python",
   "name": "python3"
  },
  "language_info": {
   "codemirror_mode": {
    "name": "ipython",
    "version": 3
   },
   "file_extension": ".py",
   "mimetype": "text/x-python",
   "name": "python",
   "nbconvert_exporter": "python",
   "pygments_lexer": "ipython3",
   "version": "3.8.5"
  }
 },
 "nbformat": 4,
 "nbformat_minor": 4
}
