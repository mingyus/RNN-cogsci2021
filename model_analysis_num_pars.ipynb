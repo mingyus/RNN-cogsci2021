{
 "cells": [
  {
   "cell_type": "code",
   "execution_count": 1,
   "metadata": {},
   "outputs": [],
   "source": [
    "from funcs_model_analysis import *"
   ]
  },
  {
   "cell_type": "code",
   "execution_count": 2,
   "metadata": {},
   "outputs": [],
   "source": [
    "modelName = 'LSTM_embed'"
   ]
  },
  {
   "cell_type": "code",
   "execution_count": 3,
   "metadata": {},
   "outputs": [],
   "source": [
    "def get_NPars(model):\n",
    "    NPars, NPars_grad = 0, 0\n",
    "    for name, param in model.named_parameters():\n",
    "        NPars += param.numel()\n",
    "        if param.requires_grad:\n",
    "            NPars_grad += param.numel()\n",
    "    return NPars, NPars_grad"
   ]
  },
  {
   "cell_type": "code",
   "execution_count": 4,
   "metadata": {},
   "outputs": [
    {
     "name": "stdout",
     "output_type": "stream",
     "text": [
      "GPU not available, CPU used\n",
      "20173 20173\n"
     ]
    }
   ],
   "source": [
    "model = initialize_model(modelName, get_dataInfo(modelName), winning_model[modelName]['hyper_parameters'])\n",
    "NPars, NPars_grad = get_NPars(model)\n",
    "print(NPars, NPars_grad)"
   ]
  },
  {
   "cell_type": "code",
   "execution_count": 5,
   "metadata": {},
   "outputs": [
    {
     "name": "stdout",
     "output_type": "stream",
     "text": [
      "['embed.subjID.weight', 306]\n",
      "['embed.subjID.bias', 3]\n",
      "['lstm.weight_ih_l0', 6200]\n",
      "['lstm.weight_hh_l0', 10000]\n",
      "['lstm.bias_ih_l0', 200]\n",
      "['lstm.bias_hh_l0', 200]\n",
      "['fc.weight', 3200]\n",
      "['fc.bias', 64]\n"
     ]
    }
   ],
   "source": [
    "total_params = 0\n",
    "for name, parameter in model.named_parameters():\n",
    "    if not parameter.requires_grad: \n",
    "        continue\n",
    "    param = parameter.numel()\n",
    "    print([name, param])"
   ]
  }
 ],
 "metadata": {
  "kernelspec": {
   "display_name": "Python 3",
   "language": "python",
   "name": "python3"
  },
  "language_info": {
   "codemirror_mode": {
    "name": "ipython",
    "version": 3
   },
   "file_extension": ".py",
   "mimetype": "text/x-python",
   "name": "python",
   "nbconvert_exporter": "python",
   "pygments_lexer": "ipython3",
   "version": "3.8.5"
  }
 },
 "nbformat": 4,
 "nbformat_minor": 4
}
