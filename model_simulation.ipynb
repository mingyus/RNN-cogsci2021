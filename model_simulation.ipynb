{
 "cells": [
  {
   "cell_type": "code",
   "execution_count": 1,
   "metadata": {},
   "outputs": [],
   "source": [
    "from info_task_exp import *\n",
    "from funcs_data_preprocessing import import_data, add_game_index\n",
    "from funcs_model import *\n",
    "from funcs_model_analysis import get_model_filename\n",
    "from funcs_model_simulation import *\n",
    "from funcs_learning_curve import *"
   ]
  },
  {
   "cell_type": "markdown",
   "metadata": {},
   "source": [
    "### Simulation"
   ]
  },
  {
   "cell_type": "code",
   "execution_count": 2,
   "metadata": {},
   "outputs": [],
   "source": [
    "def get_simulation(modelName, numGamePerType=30, nTrialsRealData=0):\n",
    "    hyper_parameters, epoch = winning_model[modelName].values()\n",
    "    dataInfo = get_dataInfo(modelName)\n",
    "    model = initialize_model(modelName, dataInfo, hyper_parameters)\n",
    "    model.load_state_dict(torch.load('models/model_' + get_model_filename(modelName, hyper_parameters, epoch), map_location=get_device()))\n",
    "    model.eval()\n",
    "    \n",
    "    simu_filename = 'model_simulation/' + modelName + ('_nTrialsRealData' + str(nTrialsRealData) if nTrialsRealData > 0 else '') + '.csv'\n",
    "    \n",
    "    if os.path.exists(simu_filename):\n",
    "        simudata = pd.read_csv(simu_filename)\n",
    "    else:\n",
    "        x_other = None\n",
    "        data_real = None\n",
    "        if nTrialsRealData > 0:\n",
    "            data_real = import_data()\n",
    "            data_real = add_game_index(data_real)\n",
    "        simudata = simulation(dataInfo, model, numGamePerType, x_other, nTrialsRealData, data_real)\n",
    "        simudata.to_csv(simu_filename, index=False)"
   ]
  },
  {
   "cell_type": "markdown",
   "metadata": {},
   "source": [
    "#### run simulation"
   ]
  },
  {
   "cell_type": "code",
   "execution_count": 3,
   "metadata": {},
   "outputs": [
    {
     "name": "stdout",
     "output_type": "stream",
     "text": [
      "GPU not available, CPU used\n",
      "GPU not available, CPU used\n",
      "GPU not available, CPU used\n",
      "GPU not available, CPU used\n",
      "GPU not available, CPU used\n",
      "GPU not available, CPU used\n",
      "GPU not available, CPU used\n",
      "GPU not available, CPU used\n"
     ]
    }
   ],
   "source": [
    "for modelName in ['LSTM', 'LSTM_embed']:\n",
    "    get_simulation(modelName)\n",
    "    get_simulation(modelName, nTrialsRealData=2)"
   ]
  },
  {
   "cell_type": "markdown",
   "metadata": {},
   "source": [
    "### Learning curves (RNN w/ embedding model)"
   ]
  },
  {
   "cell_type": "code",
   "execution_count": 4,
   "metadata": {},
   "outputs": [
    {
     "name": "stderr",
     "output_type": "stream",
     "text": [
      "/Users/mingyusong/Dropbox (Princeton)/research/Projects/RuleLearning/RNN(public)/funcs_learning_curve.py:50: RuntimeWarning: Mean of empty slice\n",
      "  ax.plot(trial_index, np.squeeze(np.nanmean(np.stack(chance_curves, axis=1),axis=1)), color='k', lw=linewidth, ls='--')\n",
      "/Users/mingyusong/Dropbox (Princeton)/research/Projects/RuleLearning/RNN(public)/funcs_learning_curve.py:50: RuntimeWarning: Mean of empty slice\n",
      "  ax.plot(trial_index, np.squeeze(np.nanmean(np.stack(chance_curves, axis=1),axis=1)), color='k', lw=linewidth, ls='--')\n",
      "/Users/mingyusong/Dropbox (Princeton)/research/Projects/RuleLearning/RNN(public)/funcs_learning_curve.py:50: RuntimeWarning: Mean of empty slice\n",
      "  ax.plot(trial_index, np.squeeze(np.nanmean(np.stack(chance_curves, axis=1),axis=1)), color='k', lw=linewidth, ls='--')\n",
      "/Users/mingyusong/Dropbox (Princeton)/research/Projects/RuleLearning/RNN(public)/funcs_learning_curve.py:50: RuntimeWarning: Mean of empty slice\n",
      "  ax.plot(trial_index, np.squeeze(np.nanmean(np.stack(chance_curves, axis=1),axis=1)), color='k', lw=linewidth, ls='--')\n",
      "/Users/mingyusong/Dropbox (Princeton)/research/Projects/RuleLearning/RNN(public)/funcs_learning_curve.py:50: RuntimeWarning: Mean of empty slice\n",
      "  ax.plot(trial_index, np.squeeze(np.nanmean(np.stack(chance_curves, axis=1),axis=1)), color='k', lw=linewidth, ls='--')\n",
      "/Users/mingyusong/Dropbox (Princeton)/research/Projects/RuleLearning/RNN(public)/funcs_learning_curve.py:50: RuntimeWarning: Mean of empty slice\n",
      "  ax.plot(trial_index, np.squeeze(np.nanmean(np.stack(chance_curves, axis=1),axis=1)), color='k', lw=linewidth, ls='--')\n"
     ]
    },
    {
     "data": {
      "image/png": "[encoded data removed]",
      "text/plain": [
       "<Figure size 576x180 with 3 Axes>"
      ]
     },
     "metadata": {
      "needs_background": "light"
     },
     "output_type": "display_data"
    },
    {
     "data": {
      "image/png": "[encoded data removed]",
      "text/plain": [
       "<Figure size 576x180 with 3 Axes>"
      ]
     },
     "metadata": {
      "needs_background": "light"
     },
     "output_type": "display_data"
    }
   ],
   "source": [
    "modelName = 'LSTM_embed'\n",
    "simudata = pd.read_csv('model_simulation/' + modelName + '.csv')\n",
    "for varName in ['NumSelected', 'ExpectedReward']:\n",
    "    plot_learningCurve(data=simudata, varName=varName)"
   ]
  }
 ],
 "metadata": {
  "kernelspec": {
   "display_name": "Python 3",
   "language": "python",
   "name": "python3"
  },
  "language_info": {
   "codemirror_mode": {
    "name": "ipython",
    "version": 3
   },
   "file_extension": ".py",
   "mimetype": "text/x-python",
   "name": "python",
   "nbconvert_exporter": "python",
   "pygments_lexer": "ipython3",
   "version": "3.8.5"
  }
 },
 "nbformat": 4,
 "nbformat_minor": 4
}
